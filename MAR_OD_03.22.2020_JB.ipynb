{
 "cells": [
  {
   "cell_type": "markdown",
   "metadata": {},
   "source": [
    "last updated: 03.22.2020 by: Johanna Belanger\n",
    "\n",
    "## Morocco Accessibility Model Part 2: OD Matrix\n",
    "\n",
    "### Baseline model: This model measures travel time from villages in Tinghir Province, Morocco, to 3 key services of interest: health services, markets (commune centres), and schools. Travel mode is driving*. \n",
    "\n",
    "#### Walking will be modeled for villages over 5km from a road. This function is not currently in the model.\n",
    "\n",
    "Phases:\n",
    "\n",
    "- 1 | import and clean MAR network\n",
    "- 2 | snap origins and destinations to network (x3 for each facility)\n",
    "- 3 | run OD matrix to calculate driving travel time from each O to D. output is one value per each OD pair.*\n",
    "- 4 | export each set of travel times to .csv and validate in QGIS*\n",
    "- 5 | * Walking time model - create road features for areas over 5km from the network Graph\n",
    "- 6 | * Create Graph of walking time and add to driving Graph.\n",
    "- 7 | * Re-run steps 1-4 with new Graph object\n",
    "- 8 | * Join origins and destinations names columns to OD matrix and export output. Current functionality not available in gostnets. \n",
    "\n",
    "* phase has not been implemented"
   ]
  },
  {
   "cell_type": "code",
   "execution_count": null,
   "metadata": {},
   "outputs": [],
   "source": [
    "# configure script\n",
    "import geopandas as gpd\n",
    "import pandas as pd\n",
    "import os, sys, time\n",
    "# set file path of GOSTnets scripts.  \n",
    "sys.path.append(os.path.join(os.path.dirname(os.getcwd()), r'/Users/jobelanger/GOSTnets-master/GOSTnets'))\n",
    "import GOSTnets as gn\n",
    "import networkx as nx\n",
    "import osmnx as ox\n",
    "from shapely.ops import unary_union\n",
    "from shapely.wkt import loads\n",
    "from shapely.geometry import LineString, MultiLineString, Point"
   ]
  },
  {
   "cell_type": "code",
   "execution_count": null,
   "metadata": {},
   "outputs": [],
   "source": [
    "# set paths\n",
    "pth = os.path.join(os.path.dirname(os.getcwd()), r'/Users/jobelanger/GOSTnets-master/morocco')\n",
    "dataPth = r'/Users/jobelanger/GOSTnets-master/morocco/data'\n",
    "outPth = r'/Users/jobelanger/GOSTnets-master/morocco/outputs'"
   ]
  },
  {
   "cell_type": "code",
   "execution_count": null,
   "metadata": {
    "scrolled": true
   },
   "outputs": [],
   "source": [
    "# import G_time from previous script\n",
    "G = nx.read_gpickle(r'/Users/jobelanger/GOSTnets-master/morocco/G_time.pickle')"
   ]
  },
  {
   "cell_type": "markdown",
   "metadata": {},
   "source": [
    "### import origins and destinations\n",
    "\n",
    "next, import origins (Tinghir villages) and destinations (health centres, markets, and schools). "
   ]
  },
  {
   "cell_type": "code",
   "execution_count": null,
   "metadata": {},
   "outputs": [],
   "source": [
    "# read in origins\n",
    "villages = gpd.read_file(os.path.join(dataPth, 'Tinghir_Villages.shp'))\n",
    "\n",
    "# create x/y columns in villages dataframe\n",
    "from shapely import geometry\n",
    "villages['x']= villages.geometry.x\n",
    "villages['y']= villages.geometry.y\n",
    "\n",
    "villages"
   ]
  },
  {
   "cell_type": "code",
   "execution_count": null,
   "metadata": {},
   "outputs": [],
   "source": [
    "# read in destination 1: Health\n",
    "health = gpd.read_file(os.path.join(dataPth, 'Tinghir_Health.shp'))\n",
    "\n",
    "from shapely import geometry\n",
    "health['x']= health.geometry.x\n",
    "health['y']= health.geometry.y\n",
    "\n",
    "health"
   ]
  },
  {
   "cell_type": "code",
   "execution_count": null,
   "metadata": {},
   "outputs": [],
   "source": [
    "# read in destination 2: Markets\n",
    "markets = gpd.read_file(os.path.join(dataPth, 'tinghirMarketsP.shp')\n",
    "                        \n",
    "from shapely import geometry\n",
    "markets['x']= markets.geometry.x\n",
    "markets['y']= markets.geometry.y\n",
    "\n",
    "markets.head()"
   ]
  },
  {
   "cell_type": "code",
   "execution_count": null,
   "metadata": {},
   "outputs": [],
   "source": [
    "# read in destination 3: Schools\n",
    "schools = gpd.read_file(os.path.join(dataPth, 'tinghirSchoolP.shp'))\n",
    "\n",
    "schools['x']= schools.geometry.x\n",
    "schools['y']= schools.geometry.y\n",
    "\n",
    "schools.head()"
   ]
  },
  {
   "cell_type": "markdown",
   "metadata": {},
   "source": [
    "### snap origins and destinations to the network \n",
    "\n",
    "\n",
    "now use geopandas pandana_snap to get closest network node associated with the origin and destination nodes. "
   ]
  },
  {
   "cell_type": "code",
   "execution_count": null,
   "metadata": {},
   "outputs": [],
   "source": [
    "# snap network to villages\n",
    "villages = gn.pandana_snap_c(G_time, \n",
    "                           villages, \n",
    "                           source_crs='epsg:32629', \n",
    "                           target_crs='epsg:32629', \n",
    "                           add_dist_to_node_col=True)"
   ]
  },
  {
   "cell_type": "code",
   "execution_count": null,
   "metadata": {
    "scrolled": true
   },
   "outputs": [],
   "source": [
    "# two new columns have been created with nearest network node from the node to the graph.\n",
    "villages.head()"
   ]
  },
  {
   "cell_type": "code",
   "execution_count": null,
   "metadata": {},
   "outputs": [],
   "source": [
    "# create a list of villages using NN.\n",
    "# the OD calculation function only takes lists as inputs.\n",
    "villages_ls = list(set(list(villages.NN)))\n",
    "villages_ls"
   ]
  },
  {
   "cell_type": "code",
   "execution_count": null,
   "metadata": {
    "scrolled": true
   },
   "outputs": [],
   "source": [
    "# snap destination 1: Health\n",
    "health = gn.pandana_snap(G_time, \n",
    "                         health, \n",
    "                         source_crs='epsg:32629',\n",
    "                         target_crs='epsg:32629', \n",
    "                         add_dist_to_node_col=True)\n",
    "\n",
    "health.head()"
   ]
  },
  {
   "cell_type": "code",
   "execution_count": null,
   "metadata": {},
   "outputs": [],
   "source": [
    "health_ls = list(set(list(health.NN)))\n",
    "health_ls"
   ]
  },
  {
   "cell_type": "code",
   "execution_count": null,
   "metadata": {},
   "outputs": [],
   "source": [
    "# snap destination 2: Markets\n",
    "markets = gn.pandana_snap(G_time, \n",
    "                           markets, \n",
    "                           source_crs='epsg:4326', \n",
    "                           target_crs='epsg:4326', \n",
    "                           add_dist_to_node_col=True)\n",
    "\n",
    "markets.head()"
   ]
  },
  {
   "cell_type": "code",
   "execution_count": null,
   "metadata": {},
   "outputs": [],
   "source": [
    "markets_ls = list(set(list(markets.NN)))\n",
    "markets_ls"
   ]
  },
  {
   "cell_type": "code",
   "execution_count": null,
   "metadata": {},
   "outputs": [],
   "source": [
    "# snap destination 3: Schools\n",
    "schools = gn.pandana_snap(G_time, \n",
    "                           schools, \n",
    "                           source_crs='epsg:4326', \n",
    "                           target_crs='epsg:4326', \n",
    "                           add_dist_to_node_col=True)\n",
    "\n",
    "schools.head()"
   ]
  },
  {
   "cell_type": "code",
   "execution_count": null,
   "metadata": {},
   "outputs": [],
   "source": [
    "schools_ls = list(set(list(schools.NN)))\n",
    "schools_ls"
   ]
  },
  {
   "cell_type": "markdown",
   "metadata": {},
   "source": [
    "### calculate origin-destination matrices \n",
    "\n",
    "run gostnets OD calculator for villages to each of the three destinations\n",
    "\n",
    "returns numpy matrix of format o-d with shortest travel time, which we will convert to a pandas dataframe, and then to a .csv."
   ]
  },
  {
   "cell_type": "code",
   "execution_count": null,
   "metadata": {},
   "outputs": [],
   "source": [
    "# OD matrix villages to destination 1: Health\n",
    "# 'VH' stands for village-to-health\n",
    "OD_VH = gn.calculate_OD(G_time, \n",
    "                     villages_ls, \n",
    "                     health_ls, \n",
    "                     fail_value=9999999)\n",
    "\n",
    "OD"
   ]
  },
  {
   "cell_type": "code",
   "execution_count": null,
   "metadata": {},
   "outputs": [],
   "source": [
    "# check the shape to verify results\n",
    "OD_VH.shape"
   ]
  },
  {
   "cell_type": "code",
   "execution_count": null,
   "metadata": {},
   "outputs": [],
   "source": [
    "# use minutes as the measure by dividing every value in the OD matrix by 60. \n",
    "# then convert the array to a df.\n",
    "OD_VH = OD_VH/60\n",
    "\n",
    "OD_VHdf = pd.DataFrame(OD_VH, columns=health_ls, index=villages_ls)\n",
    "\n",
    "OD_VHdf"
   ]
  },
  {
   "cell_type": "code",
   "execution_count": null,
   "metadata": {},
   "outputs": [],
   "source": [
    "## OD matrix villages to destination 2: Markets/Commune Centers)\n",
    "# 'VM' stands for village-to-markets\n",
    "OD_VM = gn.calculate_OD(G_time, \n",
    "                     markets_ls, \n",
    "                     health_ls, \n",
    "                     fail_value=9999999)\n",
    "\n",
    "OD_VM"
   ]
  },
  {
   "cell_type": "code",
   "execution_count": null,
   "metadata": {},
   "outputs": [],
   "source": [
    "OD_VM.shape"
   ]
  },
  {
   "cell_type": "code",
   "execution_count": null,
   "metadata": {},
   "outputs": [],
   "source": [
    "OD_VM = OD_VM/60\n",
    "\n",
    "OD_VMdf = pd.DataFrame(OD_VM, columns=markets_ls, index=villages_ls)\n",
    "\n",
    "OD_VMdf"
   ]
  },
  {
   "cell_type": "code",
   "execution_count": null,
   "metadata": {},
   "outputs": [],
   "source": [
    "# OD matrix villages to destination 3: Schools\n",
    "# 'VS' stands for village-to-schools\n",
    "OD_VS = gn.calculate_OD(G_time, \n",
    "                     schools_ls, \n",
    "                     health_ls, \n",
    "                     fail_value=9999999)\n",
    "\n",
    "OD_VS"
   ]
  },
  {
   "cell_type": "code",
   "execution_count": null,
   "metadata": {},
   "outputs": [],
   "source": [
    "OD_VS.shape"
   ]
  },
  {
   "cell_type": "code",
   "execution_count": null,
   "metadata": {},
   "outputs": [],
   "source": [
    "OD_VS = O_VS/60\n",
    "\n",
    "OD_VSdf = pd.DataFrame(OD_VS, columns=schools_ls, index=villages_ls)\n",
    "\n",
    "OD_VSdf"
   ]
  },
  {
   "cell_type": "markdown",
   "metadata": {},
   "source": [
    "### export OD matrix dataframes to .csv\n",
    "\n",
    "export OD matrix dataframes to a .csv to view in QGIS and verify with Morocco field team"
   ]
  },
  {
   "cell_type": "code",
   "execution_count": null,
   "metadata": {},
   "outputs": [],
   "source": [
    "# rewrite output path to be Morocco gostnets output folder.\n",
    "pth = outPth\n",
    "OD_VH.to_file(pth, 'OD_village2health.csv')\n",
    "OD_VM.to_file(pth, 'OD_village2market.csv')\n",
    "OD_VS.to_file(pth, 'OD_village2school.csv')"
   ]
  },
  {
   "cell_type": "code",
   "execution_count": null,
   "metadata": {
    "scrolled": true
   },
   "outputs": [],
   "source": [
    "# files can be found at: \n",
    "print(pth)"
   ]
  },
  {
   "cell_type": "markdown",
   "metadata": {},
   "source": [
    "#### find the full script as a .py file in the same folder."
   ]
  }
 ],
 "metadata": {
  "kernelspec": {
   "display_name": "Python 3",
   "language": "python",
   "name": "python3"
  },
  "language_info": {
   "codemirror_mode": {
    "name": "ipython",
    "version": 3
   },
   "file_extension": ".py",
   "mimetype": "text/x-python",
   "name": "python",
   "nbconvert_exporter": "python",
   "pygments_lexer": "ipython3",
   "version": "3.7.6"
  }
 },
 "nbformat": 4,
 "nbformat_minor": 4
}
